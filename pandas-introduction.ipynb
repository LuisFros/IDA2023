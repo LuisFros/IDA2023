{
 "cells": [
  {
   "cell_type": "code",
   "execution_count": 1,
   "id": "1f2fa2c1-bf89-44f5-b636-5dfcf8fc889e",
   "metadata": {},
   "outputs": [
    {
     "name": "stdout",
     "output_type": "stream",
     "text": [
      "Hello world\n"
     ]
    }
   ],
   "source": [
    "print(\"Hello world\")"
   ]
  },
  {
   "cell_type": "code",
   "execution_count": 3,
   "id": "a8d58e20-e5fc-4b32-b9c2-fc0cddc89bc4",
   "metadata": {},
   "outputs": [],
   "source": [
    "def myfunction():\n",
    "    print(\"Hello function\")"
   ]
  },
  {
   "cell_type": "code",
   "execution_count": 4,
   "id": "37fc383c-d5e9-4d34-a33f-777eedf33da2",
   "metadata": {},
   "outputs": [
    {
     "name": "stdout",
     "output_type": "stream",
     "text": [
      "Hello function\n"
     ]
    }
   ],
   "source": [
    "myfunction()"
   ]
  }
 ],
 "metadata": {
  "kernelspec": {
   "display_name": "Python 3 (ipykernel)",
   "language": "python",
   "name": "python3"
  },
  "language_info": {
   "codemirror_mode": {
    "name": "ipython",
    "version": 3
   },
   "file_extension": ".py",
   "mimetype": "text/x-python",
   "name": "python",
   "nbconvert_exporter": "python",
   "pygments_lexer": "ipython3",
   "version": "3.11.0"
  }
 },
 "nbformat": 4,
 "nbformat_minor": 5
}
